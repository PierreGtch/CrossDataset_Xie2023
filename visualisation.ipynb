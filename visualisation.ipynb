{
 "cells": [
  {
   "cell_type": "markdown",
   "source": [
    "# Results visualization\n",
    "## imports"
   ],
   "metadata": {
    "collapsed": false
   },
   "id": "2ff99ab797ab804a"
  },
  {
   "cell_type": "code",
   "execution_count": 1,
   "id": "initial_id",
   "metadata": {
    "collapsed": true,
    "ExecuteTime": {
     "end_time": "2024-02-01T08:48:23.575343Z",
     "start_time": "2024-02-01T08:48:21.721111Z"
    }
   },
   "outputs": [],
   "source": [
    "from pathlib import Path\n",
    "\n",
    "import numpy as np\n",
    "import pandas as pd"
   ]
  },
  {
   "cell_type": "markdown",
   "source": [
    "## Load results and sanity check"
   ],
   "metadata": {
    "collapsed": false
   },
   "id": "e38e199408424350"
  },
  {
   "cell_type": "code",
   "outputs": [],
   "source": [
    "results = []\n",
    "for path in Path('results').glob('*.csv'):\n",
    "    df = pd.read_csv(path)\n",
    "    df['file'] = path.name\n",
    "    results.append(df)\n",
    "\n",
    "results = pd.concat(results)"
   ],
   "metadata": {
    "collapsed": false,
    "ExecuteTime": {
     "end_time": "2024-02-01T08:48:23.767637Z",
     "start_time": "2024-02-01T08:48:23.576181Z"
    }
   },
   "id": "e6d8c45c623c1421",
   "execution_count": 2
  },
  {
   "cell_type": "code",
   "outputs": [
    {
     "data": {
      "text/plain": "    pretrain_dur  finetune_phase1_dur  finetune_phase2_dur  pretrain_n_epochs  \\\n0      50.338649             0.684618             0.209419                143   \n1      50.338649             3.736437             1.792514                143   \n2      50.338649             0.973701             0.627491                143   \n3      50.338649             1.522235             0.782921                143   \n4      50.338649             0.871628             0.362048                143   \n..           ...                  ...                  ...                ...   \n15     50.338649             8.533252             0.325035                143   \n16     50.338649             9.719258             0.260761                143   \n17     50.338649             4.648522             0.387688                143   \n18     50.338649            18.205695             0.457421                143   \n19     50.338649             5.469597             0.724685                143   \n\n    finetune_phase1_n_epochs  finetune_phase2_n_epochs  pretrain_train_size  \\\n0                         29                        36                 4620   \n1                        152                       212                 4620   \n2                         40                        61                 4620   \n3                         62                        88                 4620   \n4                         35                        47                 4620   \n..                       ...                       ...                  ...   \n15                       170                       175                 4620   \n16                       200                       204                 4620   \n17                        94                       100                 4620   \n18                       371                       378                 4620   \n19                       112                       122                 4620   \n\n    pretrain_valid_size  finetune_phase1_train_size  \\\n0                   519                         480   \n1                   519                         480   \n2                   519                         480   \n3                   519                         480   \n4                   519                         480   \n..                  ...                         ...   \n15                  519                         660   \n16                  519                         660   \n17                  519                         660   \n18                  519                         660   \n19                  519                         660   \n\n    finetune_phase1_valid_size  ...  finetune_subject  finetune_scheme  \\\n0                          131  ...                 8         Scheme 1   \n1                          131  ...                 8         Scheme 1   \n2                          131  ...                 8         Scheme 1   \n3                          131  ...                 8         Scheme 1   \n4                          131  ...                 8         Scheme 1   \n..                         ...  ...               ...              ...   \n15                         176  ...                12         Scheme 4   \n16                         176  ...                12         Scheme 4   \n17                         176  ...                12         Scheme 4   \n18                         176  ...                12         Scheme 4   \n19                         176  ...                12         Scheme 4   \n\n    finetune_fold  pretrain_train_acc pretrain_valid_acc  \\\n0               0            0.543939           0.500963   \n1               1            0.543939           0.500963   \n2               2            0.543939           0.500963   \n3               3            0.543939           0.500963   \n4               4            0.543939           0.500963   \n..            ...                 ...                ...   \n15              0            0.543939           0.500963   \n16              1            0.543939           0.500963   \n17              2            0.543939           0.500963   \n18              3            0.543939           0.500963   \n19              4            0.543939           0.500963   \n\n   finetune_phase1_train_acc  finetune_phase1_valid_acc  \\\n0                   0.677083                   0.740458   \n1                   0.785417                   0.656489   \n2                   0.731250                   0.679389   \n3                   0.760417                   0.717557   \n4                   0.725000                   0.687023   \n..                       ...                        ...   \n15                  0.865152                   0.875000   \n16                  0.878788                   0.892045   \n17                  0.859091                   0.846591   \n18                  0.898485                   0.880682   \n19                  0.865152                   0.875000   \n\n   finetune_phase2_valid_acc  test_acc  \\\n0                   0.740458   0.65000   \n1                   0.793893   0.72500   \n2                   0.725191   0.65000   \n3                   0.801527   0.68125   \n4                   0.740458   0.68125   \n..                       ...       ...   \n15                  0.897727   0.76250   \n16                  0.892045   0.79375   \n17                  0.869318   0.76250   \n18                  0.886364   0.81250   \n19                  0.897727   0.77500   \n\n                                                 file  \n0    pre-BNCI2014_001_fin-Schirrmeister2017_sub-8.csv  \n1    pre-BNCI2014_001_fin-Schirrmeister2017_sub-8.csv  \n2    pre-BNCI2014_001_fin-Schirrmeister2017_sub-8.csv  \n3    pre-BNCI2014_001_fin-Schirrmeister2017_sub-8.csv  \n4    pre-BNCI2014_001_fin-Schirrmeister2017_sub-8.csv  \n..                                                ...  \n15  pre-BNCI2014_001_fin-Schirrmeister2017_sub-12.csv  \n16  pre-BNCI2014_001_fin-Schirrmeister2017_sub-12.csv  \n17  pre-BNCI2014_001_fin-Schirrmeister2017_sub-12.csv  \n18  pre-BNCI2014_001_fin-Schirrmeister2017_sub-12.csv  \n19  pre-BNCI2014_001_fin-Schirrmeister2017_sub-12.csv  \n\n[3200 rows x 26 columns]",
      "text/html": "<div>\n<style scoped>\n    .dataframe tbody tr th:only-of-type {\n        vertical-align: middle;\n    }\n\n    .dataframe tbody tr th {\n        vertical-align: top;\n    }\n\n    .dataframe thead th {\n        text-align: right;\n    }\n</style>\n<table border=\"1\" class=\"dataframe\">\n  <thead>\n    <tr style=\"text-align: right;\">\n      <th></th>\n      <th>pretrain_dur</th>\n      <th>finetune_phase1_dur</th>\n      <th>finetune_phase2_dur</th>\n      <th>pretrain_n_epochs</th>\n      <th>finetune_phase1_n_epochs</th>\n      <th>finetune_phase2_n_epochs</th>\n      <th>pretrain_train_size</th>\n      <th>pretrain_valid_size</th>\n      <th>finetune_phase1_train_size</th>\n      <th>finetune_phase1_valid_size</th>\n      <th>...</th>\n      <th>finetune_subject</th>\n      <th>finetune_scheme</th>\n      <th>finetune_fold</th>\n      <th>pretrain_train_acc</th>\n      <th>pretrain_valid_acc</th>\n      <th>finetune_phase1_train_acc</th>\n      <th>finetune_phase1_valid_acc</th>\n      <th>finetune_phase2_valid_acc</th>\n      <th>test_acc</th>\n      <th>file</th>\n    </tr>\n  </thead>\n  <tbody>\n    <tr>\n      <th>0</th>\n      <td>50.338649</td>\n      <td>0.684618</td>\n      <td>0.209419</td>\n      <td>143</td>\n      <td>29</td>\n      <td>36</td>\n      <td>4620</td>\n      <td>519</td>\n      <td>480</td>\n      <td>131</td>\n      <td>...</td>\n      <td>8</td>\n      <td>Scheme 1</td>\n      <td>0</td>\n      <td>0.543939</td>\n      <td>0.500963</td>\n      <td>0.677083</td>\n      <td>0.740458</td>\n      <td>0.740458</td>\n      <td>0.65000</td>\n      <td>pre-BNCI2014_001_fin-Schirrmeister2017_sub-8.csv</td>\n    </tr>\n    <tr>\n      <th>1</th>\n      <td>50.338649</td>\n      <td>3.736437</td>\n      <td>1.792514</td>\n      <td>143</td>\n      <td>152</td>\n      <td>212</td>\n      <td>4620</td>\n      <td>519</td>\n      <td>480</td>\n      <td>131</td>\n      <td>...</td>\n      <td>8</td>\n      <td>Scheme 1</td>\n      <td>1</td>\n      <td>0.543939</td>\n      <td>0.500963</td>\n      <td>0.785417</td>\n      <td>0.656489</td>\n      <td>0.793893</td>\n      <td>0.72500</td>\n      <td>pre-BNCI2014_001_fin-Schirrmeister2017_sub-8.csv</td>\n    </tr>\n    <tr>\n      <th>2</th>\n      <td>50.338649</td>\n      <td>0.973701</td>\n      <td>0.627491</td>\n      <td>143</td>\n      <td>40</td>\n      <td>61</td>\n      <td>4620</td>\n      <td>519</td>\n      <td>480</td>\n      <td>131</td>\n      <td>...</td>\n      <td>8</td>\n      <td>Scheme 1</td>\n      <td>2</td>\n      <td>0.543939</td>\n      <td>0.500963</td>\n      <td>0.731250</td>\n      <td>0.679389</td>\n      <td>0.725191</td>\n      <td>0.65000</td>\n      <td>pre-BNCI2014_001_fin-Schirrmeister2017_sub-8.csv</td>\n    </tr>\n    <tr>\n      <th>3</th>\n      <td>50.338649</td>\n      <td>1.522235</td>\n      <td>0.782921</td>\n      <td>143</td>\n      <td>62</td>\n      <td>88</td>\n      <td>4620</td>\n      <td>519</td>\n      <td>480</td>\n      <td>131</td>\n      <td>...</td>\n      <td>8</td>\n      <td>Scheme 1</td>\n      <td>3</td>\n      <td>0.543939</td>\n      <td>0.500963</td>\n      <td>0.760417</td>\n      <td>0.717557</td>\n      <td>0.801527</td>\n      <td>0.68125</td>\n      <td>pre-BNCI2014_001_fin-Schirrmeister2017_sub-8.csv</td>\n    </tr>\n    <tr>\n      <th>4</th>\n      <td>50.338649</td>\n      <td>0.871628</td>\n      <td>0.362048</td>\n      <td>143</td>\n      <td>35</td>\n      <td>47</td>\n      <td>4620</td>\n      <td>519</td>\n      <td>480</td>\n      <td>131</td>\n      <td>...</td>\n      <td>8</td>\n      <td>Scheme 1</td>\n      <td>4</td>\n      <td>0.543939</td>\n      <td>0.500963</td>\n      <td>0.725000</td>\n      <td>0.687023</td>\n      <td>0.740458</td>\n      <td>0.68125</td>\n      <td>pre-BNCI2014_001_fin-Schirrmeister2017_sub-8.csv</td>\n    </tr>\n    <tr>\n      <th>...</th>\n      <td>...</td>\n      <td>...</td>\n      <td>...</td>\n      <td>...</td>\n      <td>...</td>\n      <td>...</td>\n      <td>...</td>\n      <td>...</td>\n      <td>...</td>\n      <td>...</td>\n      <td>...</td>\n      <td>...</td>\n      <td>...</td>\n      <td>...</td>\n      <td>...</td>\n      <td>...</td>\n      <td>...</td>\n      <td>...</td>\n      <td>...</td>\n      <td>...</td>\n      <td>...</td>\n    </tr>\n    <tr>\n      <th>15</th>\n      <td>50.338649</td>\n      <td>8.533252</td>\n      <td>0.325035</td>\n      <td>143</td>\n      <td>170</td>\n      <td>175</td>\n      <td>4620</td>\n      <td>519</td>\n      <td>660</td>\n      <td>176</td>\n      <td>...</td>\n      <td>12</td>\n      <td>Scheme 4</td>\n      <td>0</td>\n      <td>0.543939</td>\n      <td>0.500963</td>\n      <td>0.865152</td>\n      <td>0.875000</td>\n      <td>0.897727</td>\n      <td>0.76250</td>\n      <td>pre-BNCI2014_001_fin-Schirrmeister2017_sub-12.csv</td>\n    </tr>\n    <tr>\n      <th>16</th>\n      <td>50.338649</td>\n      <td>9.719258</td>\n      <td>0.260761</td>\n      <td>143</td>\n      <td>200</td>\n      <td>204</td>\n      <td>4620</td>\n      <td>519</td>\n      <td>660</td>\n      <td>176</td>\n      <td>...</td>\n      <td>12</td>\n      <td>Scheme 4</td>\n      <td>1</td>\n      <td>0.543939</td>\n      <td>0.500963</td>\n      <td>0.878788</td>\n      <td>0.892045</td>\n      <td>0.892045</td>\n      <td>0.79375</td>\n      <td>pre-BNCI2014_001_fin-Schirrmeister2017_sub-12.csv</td>\n    </tr>\n    <tr>\n      <th>17</th>\n      <td>50.338649</td>\n      <td>4.648522</td>\n      <td>0.387688</td>\n      <td>143</td>\n      <td>94</td>\n      <td>100</td>\n      <td>4620</td>\n      <td>519</td>\n      <td>660</td>\n      <td>176</td>\n      <td>...</td>\n      <td>12</td>\n      <td>Scheme 4</td>\n      <td>2</td>\n      <td>0.543939</td>\n      <td>0.500963</td>\n      <td>0.859091</td>\n      <td>0.846591</td>\n      <td>0.869318</td>\n      <td>0.76250</td>\n      <td>pre-BNCI2014_001_fin-Schirrmeister2017_sub-12.csv</td>\n    </tr>\n    <tr>\n      <th>18</th>\n      <td>50.338649</td>\n      <td>18.205695</td>\n      <td>0.457421</td>\n      <td>143</td>\n      <td>371</td>\n      <td>378</td>\n      <td>4620</td>\n      <td>519</td>\n      <td>660</td>\n      <td>176</td>\n      <td>...</td>\n      <td>12</td>\n      <td>Scheme 4</td>\n      <td>3</td>\n      <td>0.543939</td>\n      <td>0.500963</td>\n      <td>0.898485</td>\n      <td>0.880682</td>\n      <td>0.886364</td>\n      <td>0.81250</td>\n      <td>pre-BNCI2014_001_fin-Schirrmeister2017_sub-12.csv</td>\n    </tr>\n    <tr>\n      <th>19</th>\n      <td>50.338649</td>\n      <td>5.469597</td>\n      <td>0.724685</td>\n      <td>143</td>\n      <td>112</td>\n      <td>122</td>\n      <td>4620</td>\n      <td>519</td>\n      <td>660</td>\n      <td>176</td>\n      <td>...</td>\n      <td>12</td>\n      <td>Scheme 4</td>\n      <td>4</td>\n      <td>0.543939</td>\n      <td>0.500963</td>\n      <td>0.865152</td>\n      <td>0.875000</td>\n      <td>0.897727</td>\n      <td>0.77500</td>\n      <td>pre-BNCI2014_001_fin-Schirrmeister2017_sub-12.csv</td>\n    </tr>\n  </tbody>\n</table>\n<p>3200 rows × 26 columns</p>\n</div>"
     },
     "execution_count": 3,
     "metadata": {},
     "output_type": "execute_result"
    }
   ],
   "source": [
    "results"
   ],
   "metadata": {
    "collapsed": false,
    "ExecuteTime": {
     "end_time": "2024-02-01T08:48:23.784471Z",
     "start_time": "2024-02-01T08:48:23.769913Z"
    }
   },
   "id": "1752732e388b5279",
   "execution_count": 3
  },
  {
   "cell_type": "code",
   "outputs": [
    {
     "data": {
      "text/plain": "pretrain_dataset   finetune_dataset \nBNCI2014_001       BNCI2014_001         180\n                   BNCI2014_004         180\n                   Schirrmeister2017    280\nBNCI2014_004       BNCI2014_001         180\n                   BNCI2014_004         180\n                   Schirrmeister2017    280\nLee2019_MI         BNCI2014_001         180\n                   BNCI2014_004         180\n                   Schirrmeister2017    280\nPhysionetMI        BNCI2014_001         180\n                   BNCI2014_004         180\n                   Schirrmeister2017    280\nSchirrmeister2017  BNCI2014_001         180\n                   BNCI2014_004         180\n                   Schirrmeister2017    280\nName: test_acc, dtype: int64"
     },
     "execution_count": 4,
     "metadata": {},
     "output_type": "execute_result"
    }
   ],
   "source": [
    "# check the number of results\n",
    "results.groupby(\n",
    "    # ['pretrain_dataset', 'finetune_dataset', 'finetune_subject']\n",
    "    ['pretrain_dataset', 'finetune_dataset']  # n_subjects * 5 folds * 4 schemes\n",
    ").test_acc.count()"
   ],
   "metadata": {
    "collapsed": false,
    "ExecuteTime": {
     "end_time": "2024-02-01T08:48:23.795467Z",
     "start_time": "2024-02-01T08:48:23.785381Z"
    }
   },
   "id": "73947d8454a91d26",
   "execution_count": 4
  },
  {
   "cell_type": "code",
   "outputs": [],
   "source": [
    "# check that all experiments logged the same metrics for the same pretraining phase\n",
    "assert (results.groupby('pretrain_dataset')[[\n",
    "    'pretrain_dur',\n",
    "    'pretrain_n_epochs',\n",
    "    'pretrain_train_size',\n",
    "    'pretrain_valid_size',\n",
    "    'pretrain_dataset',\n",
    "    'pretrain_train_acc',\n",
    "    'pretrain_valid_acc',\n",
    "]].nunique() == 1).all().all()"
   ],
   "metadata": {
    "collapsed": false,
    "ExecuteTime": {
     "end_time": "2024-02-01T08:51:48.986209Z",
     "start_time": "2024-02-01T08:51:48.948176Z"
    }
   },
   "id": "e7d7b97d0c632fd5",
   "execution_count": 7
  },
  {
   "cell_type": "code",
   "outputs": [
    {
     "name": "stdout",
     "output_type": "stream",
     "text": [
      "                  finetune_phase1_train_size                       \\\n",
      "                                        mean        std  min  max   \n",
      "finetune_dataset                                                    \n",
      "BNCI2014_001                           180.0    0.00000  180  180   \n",
      "BNCI2014_004                           300.0    0.00000  300  300   \n",
      "Schirrmeister2017                      600.0  113.42986  240  660   \n",
      "\n",
      "                  finetune_phase1_valid_size                       test_size  \\\n",
      "                                        mean        std min  max        mean   \n",
      "finetune_dataset                                                               \n",
      "BNCI2014_001                       58.000000   0.000000  58   58  288.000000   \n",
      "BNCI2014_004                       81.777778   2.741263  80   88  315.555556   \n",
      "Schirrmeister2017                 160.714286  30.204044  64  180  160.000000   \n",
      "\n",
      "                                        \n",
      "                         std  min  max  \n",
      "finetune_dataset                        \n",
      "BNCI2014_001        0.000000  288  288  \n",
      "BNCI2014_004       12.577777  280  320  \n",
      "Schirrmeister2017   0.000000  160  160  \n"
     ]
    }
   ],
   "source": [
    "# check amount of data in the different subsets\n",
    "# TODO inconsistent with Xie2023\n",
    "print(\n",
    "    results.groupby('finetune_dataset')[['finetune_phase1_train_size', 'finetune_phase1_valid_size', 'test_size']].agg(\n",
    "        ['mean', 'std', 'min', 'max']))"
   ],
   "metadata": {
    "collapsed": false,
    "ExecuteTime": {
     "end_time": "2024-02-01T09:09:11.587514Z",
     "start_time": "2024-02-01T09:09:11.538806Z"
    }
   },
   "id": "8d8950c334cb5387",
   "execution_count": 15
  },
  {
   "cell_type": "markdown",
   "source": [
    "## Durations of the experiment phases"
   ],
   "metadata": {
    "collapsed": false
   },
   "id": "fe346480553ad560"
  },
  {
   "cell_type": "code",
   "outputs": [
    {
     "data": {
      "text/plain": "pretrain_dataset\nBNCI2014_001          50.338649\nBNCI2014_004          42.910408\nLee2019_MI            31.089299\nPhysionetMI           54.676333\nSchirrmeister2017    328.381266\nName: pretrain_dur, dtype: float64"
     },
     "execution_count": 8,
     "metadata": {},
     "output_type": "execute_result"
    }
   ],
   "source": [
    "# Pre-training\n",
    "results.groupby('pretrain_dataset').first().pretrain_dur"
   ],
   "metadata": {
    "collapsed": false,
    "ExecuteTime": {
     "end_time": "2024-02-01T08:52:12.793363Z",
     "start_time": "2024-02-01T08:52:12.773794Z"
    }
   },
   "id": "c8c14a42917b8ce6",
   "execution_count": 8
  },
  {
   "cell_type": "code",
   "outputs": [
    {
     "data": {
      "text/plain": "                                  finetune_phase1_dur            \\\n                                                 mean       std   \nfinetune_dataset  finetune_scheme                                 \nBNCI2014_001      Scheme 1                   0.804482  0.619670   \n                  Scheme 2                   1.525600  1.006604   \n                  Scheme 3                   1.396093  0.845244   \n                  Scheme 4                   1.693155  1.083675   \nBNCI2014_004      Scheme 1                   0.979419  0.957452   \n                  Scheme 2                   1.639533  1.426904   \n                  Scheme 3                   1.498243  1.327145   \n                  Scheme 4                   1.671008  1.436427   \nSchirrmeister2017 Scheme 1                   3.009236  2.780488   \n                  Scheme 2                   6.273115  4.278509   \n                  Scheme 3                   5.385614  4.004818   \n                  Scheme 4                   6.602770  4.975457   \n\n                                  finetune_phase2_dur             \n                                                 mean        std  \nfinetune_dataset  finetune_scheme                                 \nBNCI2014_001      Scheme 1                   0.588451   0.491205  \n                  Scheme 2                   0.764120   0.573649  \n                  Scheme 3                   0.669113   0.420636  \n                  Scheme 4                   0.804911   0.557677  \nBNCI2014_004      Scheme 1                   1.295326   8.956946  \n                  Scheme 2                   1.001778   1.230883  \n                  Scheme 3                   0.872306   1.394030  \n                  Scheme 4                   0.903049   0.933934  \nSchirrmeister2017 Scheme 1                   2.399558  11.536148  \n                  Scheme 2                   1.888961   1.774808  \n                  Scheme 3                   1.515661   1.375686  \n                  Scheme 4                   1.683208   1.533563  ",
      "text/html": "<div>\n<style scoped>\n    .dataframe tbody tr th:only-of-type {\n        vertical-align: middle;\n    }\n\n    .dataframe tbody tr th {\n        vertical-align: top;\n    }\n\n    .dataframe thead tr th {\n        text-align: left;\n    }\n\n    .dataframe thead tr:last-of-type th {\n        text-align: right;\n    }\n</style>\n<table border=\"1\" class=\"dataframe\">\n  <thead>\n    <tr>\n      <th></th>\n      <th></th>\n      <th colspan=\"2\" halign=\"left\">finetune_phase1_dur</th>\n      <th colspan=\"2\" halign=\"left\">finetune_phase2_dur</th>\n    </tr>\n    <tr>\n      <th></th>\n      <th></th>\n      <th>mean</th>\n      <th>std</th>\n      <th>mean</th>\n      <th>std</th>\n    </tr>\n    <tr>\n      <th>finetune_dataset</th>\n      <th>finetune_scheme</th>\n      <th></th>\n      <th></th>\n      <th></th>\n      <th></th>\n    </tr>\n  </thead>\n  <tbody>\n    <tr>\n      <th rowspan=\"4\" valign=\"top\">BNCI2014_001</th>\n      <th>Scheme 1</th>\n      <td>0.804482</td>\n      <td>0.619670</td>\n      <td>0.588451</td>\n      <td>0.491205</td>\n    </tr>\n    <tr>\n      <th>Scheme 2</th>\n      <td>1.525600</td>\n      <td>1.006604</td>\n      <td>0.764120</td>\n      <td>0.573649</td>\n    </tr>\n    <tr>\n      <th>Scheme 3</th>\n      <td>1.396093</td>\n      <td>0.845244</td>\n      <td>0.669113</td>\n      <td>0.420636</td>\n    </tr>\n    <tr>\n      <th>Scheme 4</th>\n      <td>1.693155</td>\n      <td>1.083675</td>\n      <td>0.804911</td>\n      <td>0.557677</td>\n    </tr>\n    <tr>\n      <th rowspan=\"4\" valign=\"top\">BNCI2014_004</th>\n      <th>Scheme 1</th>\n      <td>0.979419</td>\n      <td>0.957452</td>\n      <td>1.295326</td>\n      <td>8.956946</td>\n    </tr>\n    <tr>\n      <th>Scheme 2</th>\n      <td>1.639533</td>\n      <td>1.426904</td>\n      <td>1.001778</td>\n      <td>1.230883</td>\n    </tr>\n    <tr>\n      <th>Scheme 3</th>\n      <td>1.498243</td>\n      <td>1.327145</td>\n      <td>0.872306</td>\n      <td>1.394030</td>\n    </tr>\n    <tr>\n      <th>Scheme 4</th>\n      <td>1.671008</td>\n      <td>1.436427</td>\n      <td>0.903049</td>\n      <td>0.933934</td>\n    </tr>\n    <tr>\n      <th rowspan=\"4\" valign=\"top\">Schirrmeister2017</th>\n      <th>Scheme 1</th>\n      <td>3.009236</td>\n      <td>2.780488</td>\n      <td>2.399558</td>\n      <td>11.536148</td>\n    </tr>\n    <tr>\n      <th>Scheme 2</th>\n      <td>6.273115</td>\n      <td>4.278509</td>\n      <td>1.888961</td>\n      <td>1.774808</td>\n    </tr>\n    <tr>\n      <th>Scheme 3</th>\n      <td>5.385614</td>\n      <td>4.004818</td>\n      <td>1.515661</td>\n      <td>1.375686</td>\n    </tr>\n    <tr>\n      <th>Scheme 4</th>\n      <td>6.602770</td>\n      <td>4.975457</td>\n      <td>1.683208</td>\n      <td>1.533563</td>\n    </tr>\n  </tbody>\n</table>\n</div>"
     },
     "execution_count": 16,
     "metadata": {},
     "output_type": "execute_result"
    }
   ],
   "source": [
    "# Fine-tuning\n",
    "# finetuning longer on Schirrmeister\n",
    "results.groupby(['finetune_dataset', 'finetune_scheme'])[['finetune_phase1_dur', 'finetune_phase2_dur']].agg(\n",
    "    ['mean', 'std'])"
   ],
   "metadata": {
    "collapsed": false,
    "ExecuteTime": {
     "end_time": "2024-02-01T10:35:45.470352Z",
     "start_time": "2024-02-01T10:35:45.399329Z"
    }
   },
   "id": "eae0b8da07c265af",
   "execution_count": 16
  },
  {
   "cell_type": "markdown",
   "source": [
    "## Scores"
   ],
   "metadata": {
    "collapsed": false
   },
   "id": "e68154c3b6467cfe"
  },
  {
   "cell_type": "code",
   "outputs": [
    {
     "data": {
      "text/plain": "                                                         mean       std\npretrain_dataset  finetune_dataset  finetune_scheme                    \nBNCI2014_001      BNCI2014_001      Scheme 1         0.502083  0.083745\n                                    Scheme 2         0.530170  0.093548\n                                    Scheme 3         0.531713  0.095271\n                                    Scheme 4         0.532485  0.096558\n                  BNCI2014_004      Scheme 1         0.682014  0.130091\n                                    Scheme 2         0.704593  0.131718\n                                    Scheme 3         0.701151  0.133244\n                                    Scheme 4         0.722778  0.150511\n                  Schirrmeister2017 Scheme 1         0.579375  0.094117\n                                    Scheme 2         0.667411  0.089956\n                                    Scheme 3         0.662232  0.093671\n                                    Scheme 4         0.676518  0.089518\nBNCI2014_004      BNCI2014_001      Scheme 1         0.417593  0.108464\n                                    Scheme 2         0.490664  0.112439\n                                    Scheme 3         0.485494  0.116378\n                                    Scheme 4         0.496759  0.113319\n                  BNCI2014_004      Scheme 1         0.719821  0.133399\n                                    Scheme 2         0.728978  0.128823\n                                    Scheme 3         0.724990  0.139032\n                                    Scheme 4         0.731865  0.137906\n                  Schirrmeister2017 Scheme 1         0.523661  0.084778\n                                    Scheme 2         0.629554  0.096179\n                                    Scheme 3         0.624018  0.094431\n                                    Scheme 4         0.655982  0.094543\nLee2019_MI        BNCI2014_001      Scheme 1         0.408642  0.087822\n                                    Scheme 2         0.473225  0.120000\n                                    Scheme 3         0.478318  0.116829\n                                    Scheme 4         0.478009  0.113011\n                  BNCI2014_004      Scheme 1         0.700308  0.127820\n                                    Scheme 2         0.712718  0.131645\n                                    Scheme 3         0.713393  0.129638\n                                    Scheme 4         0.725813  0.141366\n                  Schirrmeister2017 Scheme 1         0.534554  0.088457\n                                    Scheme 2         0.615625  0.097522\n                                    Scheme 3         0.606696  0.099679\n                                    Scheme 4         0.651696  0.102593\nPhysionetMI       BNCI2014_001      Scheme 1         0.447917  0.099084\n                                    Scheme 2         0.507793  0.120411\n                                    Scheme 3         0.511420  0.117799\n                                    Scheme 4         0.509799  0.116182\n                  BNCI2014_004      Scheme 1         0.691607  0.132479\n                                    Scheme 2         0.711032  0.139432\n                                    Scheme 3         0.711736  0.146867\n                                    Scheme 4         0.710159  0.139691\n                  Schirrmeister2017 Scheme 1         0.586518  0.081314\n                                    Scheme 2         0.668036  0.091011\n                                    Scheme 3         0.660804  0.094090\n                                    Scheme 4         0.673929  0.090908\nSchirrmeister2017 BNCI2014_001      Scheme 1         0.494059  0.088873\n                                    Scheme 2         0.530941  0.092532\n                                    Scheme 3         0.530556  0.103196\n                                    Scheme 4         0.544753  0.097197\n                  BNCI2014_004      Scheme 1         0.687530  0.133360\n                                    Scheme 2         0.719831  0.150615\n                                    Scheme 3         0.703909  0.146708\n                                    Scheme 4         0.728294  0.160178\n                  Schirrmeister2017 Scheme 1         0.645000  0.075703\n                                    Scheme 2         0.691429  0.080337\n                                    Scheme 3         0.684375  0.079263\n                                    Scheme 4         0.696250  0.081909",
      "text/html": "<div>\n<style scoped>\n    .dataframe tbody tr th:only-of-type {\n        vertical-align: middle;\n    }\n\n    .dataframe tbody tr th {\n        vertical-align: top;\n    }\n\n    .dataframe thead th {\n        text-align: right;\n    }\n</style>\n<table border=\"1\" class=\"dataframe\">\n  <thead>\n    <tr style=\"text-align: right;\">\n      <th></th>\n      <th></th>\n      <th></th>\n      <th>mean</th>\n      <th>std</th>\n    </tr>\n    <tr>\n      <th>pretrain_dataset</th>\n      <th>finetune_dataset</th>\n      <th>finetune_scheme</th>\n      <th></th>\n      <th></th>\n    </tr>\n  </thead>\n  <tbody>\n    <tr>\n      <th rowspan=\"12\" valign=\"top\">BNCI2014_001</th>\n      <th rowspan=\"4\" valign=\"top\">BNCI2014_001</th>\n      <th>Scheme 1</th>\n      <td>0.502083</td>\n      <td>0.083745</td>\n    </tr>\n    <tr>\n      <th>Scheme 2</th>\n      <td>0.530170</td>\n      <td>0.093548</td>\n    </tr>\n    <tr>\n      <th>Scheme 3</th>\n      <td>0.531713</td>\n      <td>0.095271</td>\n    </tr>\n    <tr>\n      <th>Scheme 4</th>\n      <td>0.532485</td>\n      <td>0.096558</td>\n    </tr>\n    <tr>\n      <th rowspan=\"4\" valign=\"top\">BNCI2014_004</th>\n      <th>Scheme 1</th>\n      <td>0.682014</td>\n      <td>0.130091</td>\n    </tr>\n    <tr>\n      <th>Scheme 2</th>\n      <td>0.704593</td>\n      <td>0.131718</td>\n    </tr>\n    <tr>\n      <th>Scheme 3</th>\n      <td>0.701151</td>\n      <td>0.133244</td>\n    </tr>\n    <tr>\n      <th>Scheme 4</th>\n      <td>0.722778</td>\n      <td>0.150511</td>\n    </tr>\n    <tr>\n      <th rowspan=\"4\" valign=\"top\">Schirrmeister2017</th>\n      <th>Scheme 1</th>\n      <td>0.579375</td>\n      <td>0.094117</td>\n    </tr>\n    <tr>\n      <th>Scheme 2</th>\n      <td>0.667411</td>\n      <td>0.089956</td>\n    </tr>\n    <tr>\n      <th>Scheme 3</th>\n      <td>0.662232</td>\n      <td>0.093671</td>\n    </tr>\n    <tr>\n      <th>Scheme 4</th>\n      <td>0.676518</td>\n      <td>0.089518</td>\n    </tr>\n    <tr>\n      <th rowspan=\"12\" valign=\"top\">BNCI2014_004</th>\n      <th rowspan=\"4\" valign=\"top\">BNCI2014_001</th>\n      <th>Scheme 1</th>\n      <td>0.417593</td>\n      <td>0.108464</td>\n    </tr>\n    <tr>\n      <th>Scheme 2</th>\n      <td>0.490664</td>\n      <td>0.112439</td>\n    </tr>\n    <tr>\n      <th>Scheme 3</th>\n      <td>0.485494</td>\n      <td>0.116378</td>\n    </tr>\n    <tr>\n      <th>Scheme 4</th>\n      <td>0.496759</td>\n      <td>0.113319</td>\n    </tr>\n    <tr>\n      <th rowspan=\"4\" valign=\"top\">BNCI2014_004</th>\n      <th>Scheme 1</th>\n      <td>0.719821</td>\n      <td>0.133399</td>\n    </tr>\n    <tr>\n      <th>Scheme 2</th>\n      <td>0.728978</td>\n      <td>0.128823</td>\n    </tr>\n    <tr>\n      <th>Scheme 3</th>\n      <td>0.724990</td>\n      <td>0.139032</td>\n    </tr>\n    <tr>\n      <th>Scheme 4</th>\n      <td>0.731865</td>\n      <td>0.137906</td>\n    </tr>\n    <tr>\n      <th rowspan=\"4\" valign=\"top\">Schirrmeister2017</th>\n      <th>Scheme 1</th>\n      <td>0.523661</td>\n      <td>0.084778</td>\n    </tr>\n    <tr>\n      <th>Scheme 2</th>\n      <td>0.629554</td>\n      <td>0.096179</td>\n    </tr>\n    <tr>\n      <th>Scheme 3</th>\n      <td>0.624018</td>\n      <td>0.094431</td>\n    </tr>\n    <tr>\n      <th>Scheme 4</th>\n      <td>0.655982</td>\n      <td>0.094543</td>\n    </tr>\n    <tr>\n      <th rowspan=\"12\" valign=\"top\">Lee2019_MI</th>\n      <th rowspan=\"4\" valign=\"top\">BNCI2014_001</th>\n      <th>Scheme 1</th>\n      <td>0.408642</td>\n      <td>0.087822</td>\n    </tr>\n    <tr>\n      <th>Scheme 2</th>\n      <td>0.473225</td>\n      <td>0.120000</td>\n    </tr>\n    <tr>\n      <th>Scheme 3</th>\n      <td>0.478318</td>\n      <td>0.116829</td>\n    </tr>\n    <tr>\n      <th>Scheme 4</th>\n      <td>0.478009</td>\n      <td>0.113011</td>\n    </tr>\n    <tr>\n      <th rowspan=\"4\" valign=\"top\">BNCI2014_004</th>\n      <th>Scheme 1</th>\n      <td>0.700308</td>\n      <td>0.127820</td>\n    </tr>\n    <tr>\n      <th>Scheme 2</th>\n      <td>0.712718</td>\n      <td>0.131645</td>\n    </tr>\n    <tr>\n      <th>Scheme 3</th>\n      <td>0.713393</td>\n      <td>0.129638</td>\n    </tr>\n    <tr>\n      <th>Scheme 4</th>\n      <td>0.725813</td>\n      <td>0.141366</td>\n    </tr>\n    <tr>\n      <th rowspan=\"4\" valign=\"top\">Schirrmeister2017</th>\n      <th>Scheme 1</th>\n      <td>0.534554</td>\n      <td>0.088457</td>\n    </tr>\n    <tr>\n      <th>Scheme 2</th>\n      <td>0.615625</td>\n      <td>0.097522</td>\n    </tr>\n    <tr>\n      <th>Scheme 3</th>\n      <td>0.606696</td>\n      <td>0.099679</td>\n    </tr>\n    <tr>\n      <th>Scheme 4</th>\n      <td>0.651696</td>\n      <td>0.102593</td>\n    </tr>\n    <tr>\n      <th rowspan=\"12\" valign=\"top\">PhysionetMI</th>\n      <th rowspan=\"4\" valign=\"top\">BNCI2014_001</th>\n      <th>Scheme 1</th>\n      <td>0.447917</td>\n      <td>0.099084</td>\n    </tr>\n    <tr>\n      <th>Scheme 2</th>\n      <td>0.507793</td>\n      <td>0.120411</td>\n    </tr>\n    <tr>\n      <th>Scheme 3</th>\n      <td>0.511420</td>\n      <td>0.117799</td>\n    </tr>\n    <tr>\n      <th>Scheme 4</th>\n      <td>0.509799</td>\n      <td>0.116182</td>\n    </tr>\n    <tr>\n      <th rowspan=\"4\" valign=\"top\">BNCI2014_004</th>\n      <th>Scheme 1</th>\n      <td>0.691607</td>\n      <td>0.132479</td>\n    </tr>\n    <tr>\n      <th>Scheme 2</th>\n      <td>0.711032</td>\n      <td>0.139432</td>\n    </tr>\n    <tr>\n      <th>Scheme 3</th>\n      <td>0.711736</td>\n      <td>0.146867</td>\n    </tr>\n    <tr>\n      <th>Scheme 4</th>\n      <td>0.710159</td>\n      <td>0.139691</td>\n    </tr>\n    <tr>\n      <th rowspan=\"4\" valign=\"top\">Schirrmeister2017</th>\n      <th>Scheme 1</th>\n      <td>0.586518</td>\n      <td>0.081314</td>\n    </tr>\n    <tr>\n      <th>Scheme 2</th>\n      <td>0.668036</td>\n      <td>0.091011</td>\n    </tr>\n    <tr>\n      <th>Scheme 3</th>\n      <td>0.660804</td>\n      <td>0.094090</td>\n    </tr>\n    <tr>\n      <th>Scheme 4</th>\n      <td>0.673929</td>\n      <td>0.090908</td>\n    </tr>\n    <tr>\n      <th rowspan=\"12\" valign=\"top\">Schirrmeister2017</th>\n      <th rowspan=\"4\" valign=\"top\">BNCI2014_001</th>\n      <th>Scheme 1</th>\n      <td>0.494059</td>\n      <td>0.088873</td>\n    </tr>\n    <tr>\n      <th>Scheme 2</th>\n      <td>0.530941</td>\n      <td>0.092532</td>\n    </tr>\n    <tr>\n      <th>Scheme 3</th>\n      <td>0.530556</td>\n      <td>0.103196</td>\n    </tr>\n    <tr>\n      <th>Scheme 4</th>\n      <td>0.544753</td>\n      <td>0.097197</td>\n    </tr>\n    <tr>\n      <th rowspan=\"4\" valign=\"top\">BNCI2014_004</th>\n      <th>Scheme 1</th>\n      <td>0.687530</td>\n      <td>0.133360</td>\n    </tr>\n    <tr>\n      <th>Scheme 2</th>\n      <td>0.719831</td>\n      <td>0.150615</td>\n    </tr>\n    <tr>\n      <th>Scheme 3</th>\n      <td>0.703909</td>\n      <td>0.146708</td>\n    </tr>\n    <tr>\n      <th>Scheme 4</th>\n      <td>0.728294</td>\n      <td>0.160178</td>\n    </tr>\n    <tr>\n      <th rowspan=\"4\" valign=\"top\">Schirrmeister2017</th>\n      <th>Scheme 1</th>\n      <td>0.645000</td>\n      <td>0.075703</td>\n    </tr>\n    <tr>\n      <th>Scheme 2</th>\n      <td>0.691429</td>\n      <td>0.080337</td>\n    </tr>\n    <tr>\n      <th>Scheme 3</th>\n      <td>0.684375</td>\n      <td>0.079263</td>\n    </tr>\n    <tr>\n      <th>Scheme 4</th>\n      <td>0.696250</td>\n      <td>0.081909</td>\n    </tr>\n  </tbody>\n</table>\n</div>"
     },
     "execution_count": 18,
     "metadata": {},
     "output_type": "execute_result"
    }
   ],
   "source": [
    "# main test results\n",
    "results.groupby(['pretrain_dataset', 'finetune_dataset', 'finetune_scheme']).test_acc.agg(['mean', 'std'])"
   ],
   "metadata": {
    "collapsed": false,
    "ExecuteTime": {
     "end_time": "2024-02-01T10:39:55.370807Z",
     "start_time": "2024-02-01T10:39:55.350025Z"
    }
   },
   "id": "9dc7aba15f00f9ac",
   "execution_count": 18
  },
  {
   "cell_type": "code",
   "outputs": [],
   "source": [],
   "metadata": {
    "collapsed": false
   },
   "id": "b253090fbd2337a8"
  }
 ],
 "metadata": {
  "kernelspec": {
   "display_name": "Python 3",
   "language": "python",
   "name": "python3"
  },
  "language_info": {
   "codemirror_mode": {
    "name": "ipython",
    "version": 2
   },
   "file_extension": ".py",
   "mimetype": "text/x-python",
   "name": "python",
   "nbconvert_exporter": "python",
   "pygments_lexer": "ipython2",
   "version": "2.7.6"
  }
 },
 "nbformat": 4,
 "nbformat_minor": 5
}
